{
 "cells": [
  {
   "cell_type": "markdown",
   "metadata": {},
   "source": [
    "# Infections Comparison\n",
    "\n",
    "This script was written to provide easy interpretation of infection statistics for four locations. It has been initialised to load the data available [here](https://lginform.local.gov.uk/reports/view/lga-research/covid-19-case-tracker) The link allows an excel file to be downloaded. Several rows at the beginning of the excel file have been removed for ease of use as have any of the irrelevant columns (cumulative cases, deaths etc.).\n",
    "\n",
    "I make no claim that this script is overly efficient, it was made for personal interest.\n",
    "\n",
    "Any questions please contact:\n",
    "> Andrew Paul Barnes<br>\n",
    "> Doctoral Student & Teaching Assistant<br>\n",
    "> Department of Architecture and Civil Engineering<br>\n",
    "> University of Bath<br>\n",
    "> a.p.barnes@bath.ac.uk\n",
    "\n",
    "## Libraries\n",
    "\n",
    "To begin several libraries are imported to allow easy manipulation of the data."
   ]
  },
  {
   "cell_type": "code",
   "execution_count": 25,
   "metadata": {},
   "outputs": [],
   "source": [
    "import numpy as np\n",
    "import pandas as pd\n",
    "import matplotlib.pyplot as plt\n",
    "from datetime import date\n",
    "from scipy.stats import linregress\n",
    "from matplotlib.lines import Line2D"
   ]
  },
  {
   "cell_type": "markdown",
   "metadata": {},
   "source": [
    "## Loading Data Required\n",
    "\n",
    "First the areas of interest are defined in the variable *AREAS* and the file name/location are given in *MASTER_FILE*.\n",
    "\n",
    "*MANUAL* Unfortunately due to the dataset containing"
   ]
  },
  {
   "cell_type": "code",
   "execution_count": 39,
   "metadata": {},
   "outputs": [],
   "source": [
    "AREAS = [\"Swindon\", \"Northampton\", \"Wiltshire\", \"Cheltenham\"]\n",
    "MASTER_FILE = \"lainfections.csv\""
   ]
  },
  {
   "cell_type": "markdown",
   "metadata": {},
   "source": [
    "Next, the infections data are loaded."
   ]
  },
  {
   "cell_type": "code",
   "execution_count": 38,
   "metadata": {},
   "outputs": [],
   "source": [
    "# Load data\n",
    "weekly_infections = pd.read_csv(MASTER_FILE, delimiter=',')\n",
    "\n",
    "# Filter to only contain the areas of interest\n",
    "weekly_infections = weekly_infections.loc[weekly_infections['area'].isin(AREAS)]\n",
    "\n",
    "# Dates extraction\n",
    "dates = weekly_infections.columns.to_list()[2:]\n",
    "\n",
    "# Only need the daily infection confirmations\n",
    "weekly_infections = weekly_infections.loc[weekly_infections['area'] == 'Swindon'].iloc[:, 2:].to_numpy()"
   ]
  }
 ],
 "metadata": {
  "kernelspec": {
   "display_name": "Python 3",
   "language": "python",
   "name": "python3"
  },
  "language_info": {
   "codemirror_mode": {
    "name": "ipython",
    "version": 3
   },
   "file_extension": ".py",
   "mimetype": "text/x-python",
   "name": "python",
   "nbconvert_exporter": "python",
   "pygments_lexer": "ipython3",
   "version": "3.7.3"
  }
 },
 "nbformat": 4,
 "nbformat_minor": 2
}
