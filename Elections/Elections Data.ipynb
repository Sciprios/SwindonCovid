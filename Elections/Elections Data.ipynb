{
 "cells": [
  {
   "cell_type": "markdown",
   "metadata": {},
   "source": [
    "# Swindon Elections\n",
    "\n",
    "This script was written to provide easy interpretation of election statistics for Swindon. It has been initialised to load the data available [here](http://www.data.parliament.uk/dataset/elections/resource/e08217ef-8ded-49a9-941e-6b7cf1ddd2d7) The link allows an excel file to be downloaded.\n",
    "\n",
    "I make no claim that this script is overly efficient, it was made for personal interest.\n",
    "\n",
    "Any questions please contact:\n",
    "> Andrew Paul Barnes<br>\n",
    "> Doctoral Student & Teaching Assistant<br>\n",
    "> Department of Architecture and Civil Engineering<br>\n",
    "> University of Bath<br>\n",
    "> a.p.barnes@bath.ac.uk\n",
    "\n",
    "## Libraries\n",
    "\n",
    "To begin several libraries are imported to allow easy manipulation of the data."
   ]
  },
  {
   "cell_type": "code",
   "execution_count": 7,
   "metadata": {},
   "outputs": [],
   "source": [
    "import requests\n",
    "import numpy as np\n",
    "import pandas as pd\n",
    "import matplotlib.pyplot as plt\n",
    "from datetime import date\n",
    "from scipy.stats import linregress\n",
    "from matplotlib.lines import Line2D"
   ]
  },
  {
   "cell_type": "markdown",
   "metadata": {},
   "source": [
    "## Loading Data Required\n",
    "\n",
    "First data is retrieved from the data.parliament.uk.\n",
    "\n",
    "To begin the elections of North and South Swindon are extracted and stored."
   ]
  },
  {
   "cell_type": "code",
   "execution_count": 32,
   "metadata": {},
   "outputs": [
    {
     "name": "stdout",
     "output_type": "stream",
     "text": [
      "{'Con': [[2010, 22408]], 'Lab': [[2010, 15348]], 'LD': [[2010, 8668]], 'UKIP': [[2010, 1842]], 'BNP': [[2010, 1542]], 'Green': [[2010, 487]]}\n",
      "{'Con': [[2010, 22408], [2015, 26295]], 'Lab': [[2010, 15348], [2015, 14509]], 'LD': [[2010, 8668], [2015, 1704]], 'UKIP': [[2010, 1842], [2015, 8011]], 'BNP': [[2010, 1542]], 'Green': [[2010, 487], [2015, 1723]]}\n",
      "{'Con': [[2010, 22408], [2015, 26295], [2017, 29431]], 'Lab': [[2010, 15348], [2015, 14509], [2017, 21096]], 'LD': [[2010, 8668], [2015, 1704], [2017, 1962]], 'UKIP': [[2010, 1842], [2015, 8011], [2017, 1564]], 'BNP': [[2010, 1542]], 'Green': [[2010, 487], [2015, 1723], [2017, 858]]}\n",
      "{'Con': [[2010, 22408], [2015, 26295], [2017, 29431], [2019, 32584]], 'Lab': [[2010, 15348], [2015, 14509], [2017, 21096], [2019, 16413]], 'LD': [[2010, 8668], [2015, 1704], [2017, 1962], [2019, 4408]], 'UKIP': [[2010, 1842], [2015, 8011], [2017, 1564]], 'BNP': [[2010, 1542]], 'Green': [[2010, 487], [2015, 1723], [2017, 858], [2019, 1710]]}\n"
     ]
    }
   ],
   "source": [
    "def get_2010_onwards():\n",
    "    \"\"\" Extracts the number of votes per party each year for North and South Swindon \"\"\"\n",
    "    eurl=\"http://lda.data.parliament.uk/electionresults.json?constituency.label={}+Swindon&exists-constituency.label=true&_view=Elections\"\n",
    "    curl=\"http://lda.data.parliament.uk/electionresults/{}.json\"\n",
    "    results = {}\n",
    "    for constituency in [\"North\", \"South\"]:\n",
    "        results[constituency] = {}\n",
    "        elections = requests.get(eurl.format(constituency)).json()\n",
    "        for election in elections['result']['items']:\n",
    "            election_year = int(election['election']['label']['_value'][:4])\n",
    "            e_result = requests.get(curl.format(election['_about'].split('/')[-1])).json()\n",
    "            for candidate in e_result['result']['primaryTopic']['candidate']:\n",
    "                party = candidate['party']['_value']\n",
    "                if party in results[constituency]:\n",
    "                    results[constituency][party].append([election_year, candidate['numberOfVotes']])\n",
    "                else:\n",
    "                    results[constituency][party] = [[election_year, candidate['numberOfVotes']]]\n",
    "    return results\n",
    "get_2010_onwards()"
   ]
  },
  {
   "cell_type": "code",
   "execution_count": null,
   "metadata": {},
   "outputs": [],
   "source": []
  },
  {
   "cell_type": "code",
   "execution_count": null,
   "metadata": {},
   "outputs": [],
   "source": []
  },
  {
   "cell_type": "code",
   "execution_count": null,
   "metadata": {},
   "outputs": [],
   "source": []
  }
 ],
 "metadata": {
  "kernelspec": {
   "display_name": "Python 3",
   "language": "python",
   "name": "python3"
  },
  "language_info": {
   "codemirror_mode": {
    "name": "ipython",
    "version": 3
   },
   "file_extension": ".py",
   "mimetype": "text/x-python",
   "name": "python",
   "nbconvert_exporter": "python",
   "pygments_lexer": "ipython3",
   "version": "3.7.3"
  }
 },
 "nbformat": 4,
 "nbformat_minor": 2
}
