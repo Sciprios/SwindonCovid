{
 "cells": [
  {
   "cell_type": "markdown",
   "metadata": {},
   "source": [
    "# Swindon Elections\n",
    "\n",
    "This script was written to provide easy interpretation of election statistics for Swindon. It has been initialised to load the data available [here](http://www.data.parliament.uk/dataset/elections/resource/e08217ef-8ded-49a9-941e-6b7cf1ddd2d7) The link allows an excel file to be downloaded. Additional population data was manually acquired and editied to provide population estimates each year from 2002-2019, this was available [here](https://www.ons.gov.uk/peoplepopulationandcommunity/populationandmigration/populationestimates/datasets/populationestimatesforukenglandandwalesscotlandandnorthernireland).\n",
    "\n",
    "I make no claim that this script is overly efficient, it was made for personal interest.\n",
    "\n",
    "Any questions please contact:\n",
    "> Andrew Paul Barnes<br>\n",
    "> Doctoral Student & Teaching Assistant<br>\n",
    "> Department of Architecture and Civil Engineering<br>\n",
    "> University of Bath<br>\n",
    "> a.p.barnes@bath.ac.uk\n",
    "\n",
    "## Libraries\n",
    "\n",
    "To begin several libraries are imported to allow easy manipulation of the data."
   ]
  },
  {
   "cell_type": "code",
   "execution_count": 1,
   "metadata": {},
   "outputs": [],
   "source": [
    "import requests\n",
    "import numpy as np\n",
    "import pandas as pd\n",
    "import matplotlib.pyplot as plt\n",
    "from datetime import date\n",
    "from scipy.stats import linregress\n",
    "from matplotlib.lines import Line2D"
   ]
  },
  {
   "cell_type": "markdown",
   "metadata": {},
   "source": [
    "## Loading Data Required\n",
    "\n",
    "First data is retrieved from the data.parliament.uk.\n",
    "\n",
    "To begin the elections of North and South Swindon are extracted and stored."
   ]
  },
  {
   "cell_type": "code",
   "execution_count": 2,
   "metadata": {},
   "outputs": [],
   "source": [
    "def get_2010_onwards():\n",
    "    \"\"\" Extracts the number of votes per party each year for North and South Swindon \"\"\"\n",
    "    eurl=\"http://lda.data.parliament.uk/electionresults.json?constituency.label={}+Swindon&exists-constituency.label=true&_view=Elections\"\n",
    "    curl=\"http://lda.data.parliament.uk/electionresults/{}.json\"\n",
    "    results = {}\n",
    "    for constituency in [\"North\", \"South\"]:\n",
    "        results[constituency] = {}\n",
    "        elections = requests.get(eurl.format(constituency)).json()\n",
    "        for election in elections['result']['items']:\n",
    "            election_year = int(election['election']['label']['_value'][:4])\n",
    "            e_result = requests.get(curl.format(election['_about'].split('/')[-1])).json()\n",
    "            for candidate in e_result['result']['primaryTopic']['candidate']:\n",
    "                party = candidate['party']['_value']\n",
    "                if party in results[constituency]:\n",
    "                    results[constituency][party][str(election_year)] = candidate['numberOfVotes']\n",
    "                else:\n",
    "                    results[constituency][party] = {str(election_year): candidate['numberOfVotes']}\n",
    "    return results\n",
    "results = get_2010_onwards()"
   ]
  },
  {
   "cell_type": "markdown",
   "metadata": {},
   "source": [
    "Next let's load the manual population data."
   ]
  },
  {
   "cell_type": "code",
   "execution_count": 3,
   "metadata": {},
   "outputs": [],
   "source": [
    "def get_pop():\n",
    "    population = np.loadtxt(\"population.csv\", delimiter=',').T\n",
    "    pop = {}\n",
    "    for p in population:\n",
    "        pop[str(int(p[0]))] = p[1]\n",
    "    return pop\n",
    "population = get_pop()"
   ]
  },
  {
   "cell_type": "code",
   "execution_count": 4,
   "metadata": {},
   "outputs": [
    {
     "data": {
      "text/plain": [
       "{'North': {'Con': {'2010': 22408, '2015': 26295, '2017': 29431, '2019': 32584},\n",
       "  'Lab': {'2010': 15348, '2015': 14509, '2017': 21096, '2019': 16413},\n",
       "  'LD': {'2010': 8668, '2015': 1704, '2017': 1962, '2019': 4408},\n",
       "  'UKIP': {'2010': 1842, '2015': 8011, '2017': 1564},\n",
       "  'BNP': {'2010': 1542},\n",
       "  'Green': {'2010': 487, '2015': 1723, '2017': 858, '2019': 1710}},\n",
       " 'South': {'Con': {'2010': 19687, '2015': 22777, '2017': 24809, '2019': 26536},\n",
       "  'Lab': {'2010': 16143, '2015': 16992, '2017': 22345, '2019': 19911},\n",
       "  'LD': {'2010': 8305, '2015': 1817, '2017': 2079, '2019': 4299},\n",
       "  'UKIP': {'2010': 2029, '2015': 5920, '2017': 1291},\n",
       "  'Green': {'2010': 619, '2015': 1757, '2017': 747},\n",
       "  'Christian': {'2010': 176},\n",
       "  'Ind': {'2010': 160}}}"
      ]
     },
     "execution_count": 4,
     "metadata": {},
     "output_type": "execute_result"
    }
   ],
   "source": [
    "results"
   ]
  },
  {
   "cell_type": "markdown",
   "metadata": {},
   "source": [
    "Time to convert this into something useful and gather a collection of the parties, assigning them colours."
   ]
  },
  {
   "cell_type": "code",
   "execution_count": 5,
   "metadata": {},
   "outputs": [],
   "source": [
    "parties = {\n",
    "    \"Con\": 'b',\n",
    "    \"Lab\": 'r',\n",
    "    \"LD\": 'orange',\n",
    "    \"UKIP\": 'm',\n",
    "    \"Green\": 'g',\n",
    "    \"BNP\": 'c',\n",
    "    \"Christian\": 'y',\n",
    "    \"Ind\": 'k'\n",
    "    \n",
    "}\n",
    "        \n",
    "years = []\n",
    "turnout = {}\n",
    "for c in [\"North\", \"South\"]:\n",
    "    for p in results[c]:\n",
    "        #print(results[c][p])\n",
    "        for y in results[c][p]:\n",
    "            if y not in years:\n",
    "                years.append(y)\n",
    "                turnout[y] = results[c][p][y]\n",
    "            else:\n",
    "                turnout[y] = turnout[y] + results[c][p][y]"
   ]
  },
  {
   "cell_type": "markdown",
   "metadata": {},
   "source": [
    "## Proportion of results\n",
    "\n",
    "Stacked bar charts to show the proportion of resuts per year."
   ]
  },
  {
   "cell_type": "code",
   "execution_count": 6,
   "metadata": {},
   "outputs": [
    {
     "name": "stdout",
     "output_type": "stream",
     "text": [
      "50295\n",
      "52242\n",
      "54911\n",
      "55115\n",
      "47119\n",
      "49263\n",
      "51271\n",
      "50746\n"
     ]
    },
    {
     "data": {
      "text/plain": [
       "<matplotlib.legend.Legend at 0x1de18cf5188>"
      ]
     },
     "execution_count": 6,
     "metadata": {},
     "output_type": "execute_result"
    },
    {
     "data": {
      "image/png": "[encoded data removed]",
      "text/plain": [
       "<Figure size 1080x360 with 3 Axes>"
      ]
     },
     "metadata": {
      "needs_background": "light"
     },
     "output_type": "display_data"
    }
   ],
   "source": [
    "fig, all_axs = plt.subplots(nrows=1, ncols=3, figsize=(15, 5))\n",
    "\n",
    "colours = ['m', 'r', 'g', 'b', 'c', 'y', 'k']\n",
    "bar_width = 0.5\n",
    "\n",
    "#ticks = [1, 9]\n",
    "#labels = [\"2011/2012\", \"2019/2020\"]\n",
    "\n",
    "for idx, c in enumerate([\"North\", \"South\"]):\n",
    "    axs = all_axs[idx]\n",
    "    for yidx, year in enumerate(years):\n",
    "        height = 0\n",
    "        for party in results[c]:\n",
    "            if year in results[c][party]:\n",
    "                axs.bar(year, results[c][party][year],\n",
    "                                bar_width, bottom=height, color=parties[party])\n",
    "                height = height + results[c][party][year]\n",
    "        print(height)\n",
    "    axs.set_title(c+\" Swindon\", fontsize=16)\n",
    "    axs.set_xlabel(\"Election Year\", fontsize=14)\n",
    "    \n",
    "all_axs[0].set_ylabel(\"No. Votes\", fontsize=14)\n",
    "\n",
    "for y in years:\n",
    "    all_axs[-1].bar(y, (turnout[y]/population[y])*100, bar_width, bottom=0, color='k')\n",
    "all_axs[-1].set_ylim([0, 100])\n",
    "all_axs[-1].set_title(\"Turnout of population\")\n",
    "all_axs[-1].set_ylabel(\"Population Voting (%)\")\n",
    "\n",
    "\n",
    "bars = []\n",
    "for p in parties:\n",
    "    bars.append(Line2D([0], [0], color=parties[p], lw=4))\n",
    "\n",
    "fig.legend(bars, parties.keys(),\n",
    "                   loc=\"center right\",\n",
    "                   ncol=1, fontsize=12,\n",
    "                   facecolor='w', framealpha=1)"
   ]
  },
  {
   "cell_type": "code",
   "execution_count": 7,
   "metadata": {},
   "outputs": [
    {
     "name": "stdout",
     "output_type": "stream",
     "text": [
      "47.073775363754535\n",
      "46.6509485991617\n",
      "48.185040138317234\n",
      "47.64371514854203\n"
     ]
    },
    {
     "data": {
      "text/plain": [
       "47.38836981244387"
      ]
     },
     "execution_count": 7,
     "metadata": {},
     "output_type": "execute_result"
    }
   ],
   "source": [
    "z = 0\n",
    "for y in years:\n",
    "    z = z +(turnout[y]/population[y])*100\n",
    "    print((turnout[y]/population[y])*100)\n",
    "z/len(years)"
   ]
  },
  {
   "cell_type": "code",
   "execution_count": 8,
   "metadata": {},
   "outputs": [
    {
     "name": "stdout",
     "output_type": "stream",
     "text": [
      "0.23002853799248568\n",
      "0.25905127826215457\n",
      "0.27717503908383717\n",
      "0.30779985074767857\n"
     ]
    }
   ],
   "source": [
    "z = 0\n",
    "ys = [2010, 2015, 2017, 2019]\n",
    "prev = 0\n",
    "for idx in range(0, 4):\n",
    "    print(\n",
    "        results['North']['Con'][str(ys[idx])] / turnout[str(ys[idx])])"
   ]
  },
  {
   "cell_type": "code",
   "execution_count": 9,
   "metadata": {},
   "outputs": [
    {
     "ename": "SyntaxError",
     "evalue": "invalid syntax (<ipython-input-9-1ae0d8776928>, line 1)",
     "output_type": "error",
     "traceback": [
      "\u001b[1;36m  File \u001b[1;32m\"<ipython-input-9-1ae0d8776928>\"\u001b[1;36m, line \u001b[1;32m1\u001b[0m\n\u001b[1;33m    turnout[]\u001b[0m\n\u001b[1;37m            ^\u001b[0m\n\u001b[1;31mSyntaxError\u001b[0m\u001b[1;31m:\u001b[0m invalid syntax\n"
     ]
    }
   ],
   "source": [
    "turnout[]"
   ]
  },
  {
   "cell_type": "code",
   "execution_count": 11,
   "metadata": {},
   "outputs": [
    {
     "data": {
      "image/png": "[encoded data removed]",
      "text/plain": [
       "<Figure size 432x288 with 1 Axes>"
      ]
     },
     "metadata": {},
     "output_type": "display_data"
    }
   ],
   "source": [
    "fig1, ax1 = plt.subplots()\n",
    "\n",
    "colours = ['b', 'r', 'orange', 'm', 'g', 'k']\n",
    "\n",
    "sizes = [\n",
    "    26536,\n",
    "    19911,\n",
    "    4299\n",
    "]\n",
    "\n",
    "ax1.pie(sizes, colors=colours,\n",
    "        shadow=False, startangle=90)\n",
    "ax1.axis('equal')  # Equal aspect ratio ensures that pie is drawn as a circle.\n",
    "\n",
    "plt.show()"
   ]
  },
  {
   "cell_type": "code",
   "execution_count": null,
   "metadata": {},
   "outputs": [],
   "source": []
  },
  {
   "cell_type": "code",
   "execution_count": null,
   "metadata": {},
   "outputs": [],
   "source": []
  },
  {
   "cell_type": "code",
   "execution_count": null,
   "metadata": {},
   "outputs": [],
   "source": []
  },
  {
   "cell_type": "code",
   "execution_count": null,
   "metadata": {},
   "outputs": [],
   "source": []
  },
  {
   "cell_type": "code",
   "execution_count": null,
   "metadata": {},
   "outputs": [],
   "source": []
  },
  {
   "cell_type": "code",
   "execution_count": null,
   "metadata": {},
   "outputs": [],
   "source": []
  },
  {
   "cell_type": "code",
   "execution_count": null,
   "metadata": {},
   "outputs": [],
   "source": []
  },
  {
   "cell_type": "code",
   "execution_count": null,
   "metadata": {},
   "outputs": [],
   "source": []
  },
  {
   "cell_type": "code",
   "execution_count": null,
   "metadata": {},
   "outputs": [],
   "source": []
  },
  {
   "cell_type": "code",
   "execution_count": null,
   "metadata": {},
   "outputs": [],
   "source": []
  }
 ],
 "metadata": {
  "kernelspec": {
   "display_name": "Python 3",
   "language": "python",
   "name": "python3"
  },
  "language_info": {
   "codemirror_mode": {
    "name": "ipython",
    "version": 3
   },
   "file_extension": ".py",
   "mimetype": "text/x-python",
   "name": "python",
   "nbconvert_exporter": "python",
   "pygments_lexer": "ipython3",
   "version": "3.7.6"
  }
 },
 "nbformat": 4,
 "nbformat_minor": 2
}
