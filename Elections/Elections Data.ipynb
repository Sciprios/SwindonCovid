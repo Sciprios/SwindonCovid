{
 "cells": [
  {
   "cell_type": "markdown",
   "metadata": {},
   "source": [
    "# Swindon Elections\n",
    "\n",
    "This script was written to provide easy interpretation of election statistics for Swindon. It has been initialised to load the data available [here](http://www.data.parliament.uk/dataset/elections/resource/e08217ef-8ded-49a9-941e-6b7cf1ddd2d7) The link allows an excel file to be downloaded.\n",
    "\n",
    "I make no claim that this script is overly efficient, it was made for personal interest.\n",
    "\n",
    "Any questions please contact:\n",
    "> Andrew Paul Barnes<br>\n",
    "> Doctoral Student & Teaching Assistant<br>\n",
    "> Department of Architecture and Civil Engineering<br>\n",
    "> University of Bath<br>\n",
    "> a.p.barnes@bath.ac.uk\n",
    "\n",
    "## Libraries\n",
    "\n",
    "To begin several libraries are imported to allow easy manipulation of the data."
   ]
  },
  {
   "cell_type": "code",
   "execution_count": 7,
   "metadata": {},
   "outputs": [],
   "source": [
    "import requests\n",
    "import numpy as np\n",
    "import pandas as pd\n",
    "import matplotlib.pyplot as plt\n",
    "from datetime import date\n",
    "from scipy.stats import linregress\n",
    "from matplotlib.lines import Line2D"
   ]
  },
  {
   "cell_type": "markdown",
   "metadata": {},
   "source": [
    "## Loading Data Required\n",
    "\n",
    "First data is retrieved from the data.parliament.uk.\n",
    "\n",
    "To begin the elections of North and South Swindon are extracted and stored."
   ]
  },
  {
   "cell_type": "code",
   "execution_count": 32,
   "metadata": {},
   "outputs": [
    {
     "name": "stdout",
     "output_type": "stream",
     "text": [
      "{'Con': [[2010, 22408]], 'Lab': [[2010, 15348]], 'LD': [[2010, 8668]], 'UKIP': [[2010, 1842]], 'BNP': [[2010, 1542]], 'Green': [[2010, 487]]}\n",
      "{'Con': [[2010, 22408], [2015, 26295]], 'Lab': [[2010, 15348], [2015, 14509]], 'LD': [[2010, 8668], [2015, 1704]], 'UKIP': [[2010, 1842], [2015, 8011]], 'BNP': [[2010, 1542]], 'Green': [[2010, 487], [2015, 1723]]}\n",
      "{'Con': [[2010, 22408], [2015, 26295], [2017, 29431]], 'Lab': [[2010, 15348], [2015, 14509], [2017, 21096]], 'LD': [[2010, 8668], [2015, 1704], [2017, 1962]], 'UKIP': [[2010, 1842], [2015, 8011], [2017, 1564]], 'BNP': [[2010, 1542]], 'Green': [[2010, 487], [2015, 1723], [2017, 858]]}\n",
      "{'Con': [[2010, 22408], [2015, 26295], [2017, 29431], [2019, 32584]], 'Lab': [[2010, 15348], [2015, 14509], [2017, 21096], [2019, 16413]], 'LD': [[2010, 8668], [2015, 1704], [2017, 1962], [2019, 4408]], 'UKIP': [[2010, 1842], [2015, 8011], [2017, 1564]], 'BNP': [[2010, 1542]], 'Green': [[2010, 487], [2015, 1723], [2017, 858], [2019, 1710]]}\n"
     ]
    }
   ],
   "source": [
    "def get_2010_onwards():\n",
    "    \"\"\" Extracts the number of votes per party each year for North and South Swindon \"\"\"\n",
    "    eurl=\"http://lda.data.parliament.uk/electionresults.json?constituency.label={}+Swindon&exists-constituency.label=true&_view=Elections\"\n",
    "    curl=\"http://lda.data.parliament.uk/electionresults/{}.json\"\n",
    "    results = {}\n",
    "    for constituency in [\"North\", \"South\"]:\n",
    "        results[constituency] = {}\n",
    "        elections = requests.get(eurl.format(constituency)).json()\n",
    "        for election in elections['result']['items']:\n",
    "            election_year = int(election['election']['label']['_value'][:4])\n",
    "            e_result = requests.get(curl.format(election['_about'].split('/')[-1])).json()\n",
    "            for candidate in e_result['result']['primaryTopic']['candidate']:\n",
    "                party = candidate['party']['_value']\n",
    "                if party in results[constituency]:\n",
    "                    results[constituency][party].append([election_year, candidate['numberOfVotes']])\n",
    "                else:\n",
    "                    results[constituency][party] = [[election_year, candidate['numberOfVotes']]]\n",
    "            print(results[constituency])\n",
    "        break\n",
    "get_2010_onwards()"
   ]
  },
  {
   "cell_type": "code",
   "execution_count": null,
   "metadata": {},
   "outputs": [],
   "source": []
  },
  {
   "cell_type": "code",
   "execution_count": null,
   "metadata": {},
   "outputs": [],
   "source": []
  },
  {
   "cell_type": "code",
   "execution_count": null,
   "metadata": {},
   "outputs": [],
   "source": []
  },
  {
   "cell_type": "code",
   "execution_count": null,
   "metadata": {},
   "outputs": [],
   "source": []
  },
  {
   "cell_type": "code",
   "execution_count": 13,
   "metadata": {},
   "outputs": [
    {
     "name": "stdout",
     "output_type": "stream",
     "text": [
      "{'_about': 'http://data.parliament.uk/resources/383247', 'constituency': {'_about': 'http://data.parliament.uk/resources/147110', 'label': {'_value': 'North Swindon'}}, 'election': {'_about': 'http://data.parliament.uk/resources/382037', 'label': {'_value': '2010 General Election'}}, 'electorate': 78384, 'majority': 7060, 'resultOfElection': 'Con Gain', 'turnout': 50295}\n",
      "{'_about': 'http://data.parliament.uk/resources/383248', 'constituency': {'_about': 'http://data.parliament.uk/resources/147110', 'label': {'_value': 'North Swindon'}}, 'election': {'_about': 'http://data.parliament.uk/resources/382386', 'label': {'_value': '2015 General Election'}}, 'electorate': 80983, 'majority': 11786, 'resultOfElection': 'Con Hold', 'turnout': 52242}\n",
      "{'_about': 'http://data.parliament.uk/resources/730571', 'constituency': {'_about': 'http://data.parliament.uk/resources/147110', 'label': {'_value': 'North Swindon'}}, 'election': {'_about': 'http://data.parliament.uk/resources/730039', 'label': {'_value': '2017 General Election'}}, 'electorate': 80168, 'majority': 8335, 'resultOfElection': 'Con Hold', 'turnout': 54911}\n",
      "{'_about': 'http://data.parliament.uk/resources/1223426', 'constituency': {'_about': 'http://data.parliament.uk/resources/147110', 'label': {'_value': 'North Swindon'}}, 'election': {'_about': 'http://data.parliament.uk/resources/1167964', 'label': {'_value': '2019 General Election'}}, 'electorate': 82441, 'majority': 16171, 'resultOfElection': 'Con Hold', 'turnout': 55115}\n"
     ]
    }
   ],
   "source": [
    "for x in requests.get(\"http://lda.data.parliament.uk/electionresults.json?constituency.label=North+Swindon&exists-constituency.label=true&_view=Elections\").json()['result']['items']:\n",
    "    print(x)"
   ]
  },
  {
   "cell_type": "code",
   "execution_count": 29,
   "metadata": {},
   "outputs": [
    {
     "data": {
      "text/plain": [
       "{'_about': 'http://eldaddp.azurewebsites.net/electionresults/383247.json',\n",
       " 'definition': 'http://eldaddp.azurewebsites.net/meta/electionresults/_id.json',\n",
       " 'extendedMetadataVersion': 'http://eldaddp.azurewebsites.net/electionresults/383247.json?_metadata=all',\n",
       " 'primaryTopic': {'_about': 'http://data.parliament.uk/resources/383247',\n",
       "  'candidate': [{'_about': 'http://data.parliament.uk/resources/383247/candidates/1',\n",
       "    'fullName': {'_value': 'Tomlinson, Justin'},\n",
       "    'numberOfVotes': 22408,\n",
       "    'order': 1,\n",
       "    'party': {'_value': 'Con'}},\n",
       "   {'_about': 'http://data.parliament.uk/resources/383247/candidates/2',\n",
       "    'fullName': {'_value': 'Agarwal, Victor'},\n",
       "    'numberOfVotes': 15348,\n",
       "    'order': 2,\n",
       "    'party': {'_value': 'Lab'}},\n",
       "   {'_about': 'http://data.parliament.uk/resources/383247/candidates/3',\n",
       "    'fullName': {'_value': 'Lock, Jane'},\n",
       "    'numberOfVotes': 8668,\n",
       "    'order': 3,\n",
       "    'party': {'_value': 'LD'}},\n",
       "   {'_about': 'http://data.parliament.uk/resources/383247/candidates/4',\n",
       "    'fullName': {'_value': 'Halden, Stephen'},\n",
       "    'numberOfVotes': 1842,\n",
       "    'order': 4,\n",
       "    'party': {'_value': 'UKIP'}},\n",
       "   {'_about': 'http://data.parliament.uk/resources/383247/candidates/5',\n",
       "    'fullName': {'_value': 'Bates, Reg'},\n",
       "    'numberOfVotes': 1542,\n",
       "    'order': 5,\n",
       "    'party': {'_value': 'BNP'}},\n",
       "   {'_about': 'http://data.parliament.uk/resources/383247/candidates/6',\n",
       "    'fullName': {'_value': 'Hughes, Bill'},\n",
       "    'numberOfVotes': 487,\n",
       "    'order': 6,\n",
       "    'party': {'_value': 'Green'}}],\n",
       "  'constituency': {'_about': 'http://data.parliament.uk/resources/147110',\n",
       "   'label': {'_value': 'North Swindon'}},\n",
       "  'election': {'_about': 'http://data.parliament.uk/resources/382037',\n",
       "   'label': {'_value': '2010 General Election'}},\n",
       "  'electorate': 78384,\n",
       "  'isPrimaryTopicOf': 'http://eldaddp.azurewebsites.net/electionresults/383247.json',\n",
       "  'majority': 7060,\n",
       "  'resultOfElection': 'Con Gain',\n",
       "  'turnout': 50295},\n",
       " 'type': ['http://purl.org/linked-data/api/vocab#ItemEndpoint',\n",
       "  'http://purl.org/linked-data/api/vocab#Page']}"
      ]
     },
     "execution_count": 29,
     "metadata": {},
     "output_type": "execute_result"
    }
   ],
   "source": [
    "requests.get(\"http://lda.data.parliament.uk/electionresults/383247.json\").json()['result']"
   ]
  },
  {
   "cell_type": "code",
   "execution_count": null,
   "metadata": {},
   "outputs": [],
   "source": []
  },
  {
   "cell_type": "code",
   "execution_count": null,
   "metadata": {},
   "outputs": [],
   "source": []
  },
  {
   "cell_type": "code",
   "execution_count": null,
   "metadata": {},
   "outputs": [],
   "source": []
  },
  {
   "cell_type": "code",
   "execution_count": null,
   "metadata": {},
   "outputs": [],
   "source": []
  },
  {
   "cell_type": "code",
   "execution_count": null,
   "metadata": {},
   "outputs": [],
   "source": []
  }
 ],
 "metadata": {
  "kernelspec": {
   "display_name": "Python 3",
   "language": "python",
   "name": "python3"
  },
  "language_info": {
   "codemirror_mode": {
    "name": "ipython",
    "version": 3
   },
   "file_extension": ".py",
   "mimetype": "text/x-python",
   "name": "python",
   "nbconvert_exporter": "python",
   "pygments_lexer": "ipython3",
   "version": "3.7.3"
  }
 },
 "nbformat": 4,
 "nbformat_minor": 2
}
