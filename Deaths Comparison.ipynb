{
 "cells": [
  {
   "cell_type": "markdown",
   "metadata": {},
   "source": [
    "# Death Comparison\n",
    "\n",
    "This script was written to provide easy interpretation of death statistics for four locations. It has been initialised to load the data available [here](https://www.ons.gov.uk/peoplepopulationandcommunity/healthandsocialcare/causesofdeath/datasets/deathregistrationsandoccurrencesbylocalauthorityandhealthboard) The link allows an excel file to be downloaded. This script requires the 'Occurrences - All data' to be exported into a single CSV file.\n",
    "\n",
    "I make no claim that this script is overly efficient, it was made for personal interest.\n",
    "\n",
    "Any questions please contact:\n",
    "> Andrew Paul Barnes<br>\n",
    "> Doctoral Student & Teaching Assistant<br>\n",
    "> Department of Architecture and Civil Engineering<br>\n",
    "> University of Bath<br>\n",
    "> a.p.barnes@bath.ac.uk\n",
    "\n",
    "## Libraries\n",
    "\n",
    "To begin several libraries are imported to allow easy manipulation of the data."
   ]
  },
  {
   "cell_type": "code",
   "execution_count": 10,
   "metadata": {},
   "outputs": [],
   "source": [
    "import numpy as np\n",
    "import pandas as pd\n",
    "import matplotlib.pyplot as plt"
   ]
  },
  {
   "cell_type": "markdown",
   "metadata": {},
   "source": [
    "## Loading Data Required\n",
    "\n",
    "First the areas of interest are defined in the variable *AREAS* and the file name/location are given in *MASTER_FILE*."
   ]
  },
  {
   "cell_type": "code",
   "execution_count": 38,
   "metadata": {},
   "outputs": [],
   "source": [
    "AREAS = [\"Swindon\", \"Northampton\", \"Wiltshire\", \"Cheltenham\"]\n",
    "MASTER_FILE = \"occurrences-alldata.csv\""
   ]
  },
  {
   "cell_type": "markdown",
   "metadata": {},
   "source": [
    "Next, the CSV file is loaded and mined to retrieve only the areas indicated above and 'all deaths'."
   ]
  },
  {
   "cell_type": "code",
   "execution_count": 71,
   "metadata": {},
   "outputs": [],
   "source": [
    "# Load data\n",
    "weekly_deaths = pd.read_csv(MASTER_FILE, delimiter=',', skiprows=3)\n",
    "\n",
    "# Filter to only contain the areas of interest\n",
    "weekly_deaths = weekly_deaths.loc[weekly_deaths['Area name'].isin(AREAS)]\n",
    "weekly_deaths = weekly_deaths.loc[weekly_deaths['Cause of death'] == \"All causes\"]\n",
    "\n",
    "# Select the columns required\n",
    "weekly_deaths = weekly_deaths[[\"Area name\", \"Week number\", \"Place of death\", \"Number of deaths\"]]\n",
    "\n",
    "# Extract the range of death locations and enumerate them.\n",
    "death_locations = weekly_deaths[\"Place of death\"].unique().tolist()\n",
    "for locidx, dloc in enumerate(death_locations):\n",
    "    weekly_deaths = weekly_deaths.replace(to_replace=dloc, value=locidx)"
   ]
  },
  {
   "cell_type": "markdown",
   "metadata": {},
   "source": [
    "Finally, split the data into areas. This step is to simplify the process of plotting and aggregating of weekly data."
   ]
  },
  {
   "cell_type": "code",
   "execution_count": 73,
   "metadata": {},
   "outputs": [],
   "source": [
    "def split_data(deaths, areas):\n",
    "    \"\"\" Splits the data from a master pandas sheet into area matrices. \"\"\"\n",
    "    area_matrices = {}\n",
    "    for area in areas:\n",
    "        area_matrices[area] = deaths.loc[deaths['Area name'] == area].iloc[:, 1:].to_numpy()\n",
    "split_data(weekly_deaths, AREAS)"
   ]
  },
  {
   "cell_type": "code",
   "execution_count": null,
   "metadata": {},
   "outputs": [],
   "source": []
  },
  {
   "cell_type": "code",
   "execution_count": null,
   "metadata": {},
   "outputs": [],
   "source": []
  },
  {
   "cell_type": "code",
   "execution_count": null,
   "metadata": {},
   "outputs": [],
   "source": []
  },
  {
   "cell_type": "code",
   "execution_count": null,
   "metadata": {},
   "outputs": [],
   "source": []
  }
 ],
 "metadata": {
  "kernelspec": {
   "display_name": "Python 3",
   "language": "python",
   "name": "python3"
  },
  "language_info": {
   "codemirror_mode": {
    "name": "ipython",
    "version": 3
   },
   "file_extension": ".py",
   "mimetype": "text/x-python",
   "name": "python",
   "nbconvert_exporter": "python",
   "pygments_lexer": "ipython3",
   "version": "3.7.6"
  }
 },
 "nbformat": 4,
 "nbformat_minor": 4
}
