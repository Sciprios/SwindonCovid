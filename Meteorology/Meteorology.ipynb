{
 "cells": [
  {
   "cell_type": "markdown",
   "metadata": {},
   "source": [
    "# Meteorology of Swindon\n",
    "\n",
    "This script extracts and interprets meteorological data in Swindon. The ERA5 Land Monthly Averaged data set retrieved from Copernicus and covers a spatial regions of North 51.6°, West -1.9°, South 51.5°, East -1.7°."
   ]
  },
  {
   "cell_type": "code",
   "execution_count": 30,
   "metadata": {},
   "outputs": [],
   "source": [
    "from datetime import date, timedelta\n",
    "from dateutil.relativedelta import relativedelta\n",
    "from tqdm.notebook import tqdm\n",
    "from netCDF4 import Dataset, num2date\n",
    "import matplotlib.pyplot as plt\n",
    "import pandas as pd\n",
    "import numpy as np\n",
    "import cdsapi\n",
    "import os"
   ]
  },
  {
   "cell_type": "markdown",
   "metadata": {},
   "source": [
    "## 1. Data Extraction\n",
    "\n",
    "Below is the code fow downloading the data from Copernicus. Once it is downloaded the rest of the script can run. To begin, where should we put the data?"
   ]
  },
  {
   "cell_type": "code",
   "execution_count": 20,
   "metadata": {},
   "outputs": [],
   "source": [
    "data_file = \"datafile\""
   ]
  },
  {
   "cell_type": "code",
   "execution_count": 21,
   "metadata": {},
   "outputs": [
    {
     "name": "stderr",
     "output_type": "stream",
     "text": [
      "2021-01-09 11:13:25,899 INFO Welcome to the CDS\n",
      "2021-01-09 11:13:25,901 INFO Sending request to https://cds.climate.copernicus.eu/api/v2/resources/reanalysis-era5-land-monthly-means\n",
      "2021-01-09 11:13:26,057 INFO Request is completed\n",
      "2021-01-09 11:13:26,059 INFO Downloading https://download-0009.copernicus-climate.eu/cache-compute-0009/cache/data9/adaptor.mars.internal-1610190167.965858-23345-17-ce80eb69-86b0-41cd-82f2-307ac6eb8382.nc to datafile (20.3K)\n",
      "2021-01-09 11:13:26,218 INFO Download rate 129.1K/s                                                                    \n"
     ]
    }
   ],
   "source": [
    "def get_data(file_location):\n",
    "    \"\"\" This method downloads the required data form Copernicus. \"\"\"\n",
    "    c = cdsapi.Client()\n",
    "    c.retrieve(\n",
    "        'reanalysis-era5-land-monthly-means',\n",
    "        {\n",
    "            'product_type': 'monthly_averaged_reanalysis',\n",
    "            'variable': [\n",
    "                '2m_temperature', 'snowfall', 'total_precipitation',\n",
    "            ],\n",
    "            'year': [\n",
    "                '1981', '1982', '1983',\n",
    "                '1984', '1985', '1986',\n",
    "                '1987', '1988', '1989',\n",
    "                '1990', '1991', '1992',\n",
    "                '1993', '1994', '1995',\n",
    "                '1996', '1997', '1998',\n",
    "                '1999', '2000', '2001',\n",
    "                '2002', '2003', '2004',\n",
    "                '2005', '2006', '2007',\n",
    "                '2008', '2009', '2010',\n",
    "                '2011', '2012', '2013',\n",
    "                '2014', '2015', '2016',\n",
    "                '2017', '2018', '2019',\n",
    "                '2020',\n",
    "            ],\n",
    "            'month': [\n",
    "                '01', '02', '03',\n",
    "                '04', '05', '06',\n",
    "                '07', '08', '09',\n",
    "                '10', '11', '12',\n",
    "            ],\n",
    "            'time': '00:00',\n",
    "            'area': [\n",
    "                51.6, -1.9, 51.5,\n",
    "                -1.7,\n",
    "            ],\n",
    "            'format': 'netcdf',\n",
    "        },\n",
    "        file_location)\n",
    "get_data(data_file)"
   ]
  },
  {
   "cell_type": "markdown",
   "metadata": {},
   "source": [
    "Next, I extract the data into data structures which are easier to manage."
   ]
  },
  {
   "cell_type": "code",
   "execution_count": 39,
   "metadata": {},
   "outputs": [],
   "source": [
    "def refine_data(data_file):\n",
    "    \"\"\" Extracts data from the data file and createss a dataframe from it. \"\"\"\n",
    "    ds = Dataset(\"{}.nc\".format(data_file))\n",
    "    # Get the dates (months) the data covers\n",
    "    times = ds.variables['time']\n",
    "    times = num2date(times[:], times.units)\n",
    "    # Temperature, Rainfall and Snowfall needs averaging\n",
    "    # in the spatial domain.\n",
    "    temp = np.mean(ds.variables['t2m'][:], axis=(1, 2)) - 273.15 # Convert to celsius\n",
    "    rain = np.mean(ds.variables['tp'][:], axis=(1, 2))\n",
    "    snow = np.mean(ds.variables['sf'][:], axis=(1, 2))\n",
    "    # Create pandas dataframe\n",
    "    df = pd.DataFrame(data={'date': times, 'temp': temp, 'snow': snow, 'rain': rain})\n",
    "    return df\n",
    "df = refine_data(data_file)"
   ]
  }
 ],
 "metadata": {
  "kernelspec": {
   "display_name": "Python 3",
   "language": "python",
   "name": "python3"
  },
  "language_info": {
   "codemirror_mode": {
    "name": "ipython",
    "version": 3
   },
   "file_extension": ".py",
   "mimetype": "text/x-python",
   "name": "python",
   "nbconvert_exporter": "python",
   "pygments_lexer": "ipython3",
   "version": "3.7.6"
  }
 },
 "nbformat": 4,
 "nbformat_minor": 4
}
