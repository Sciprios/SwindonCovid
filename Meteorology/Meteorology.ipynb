{
 "cells": [
  {
   "cell_type": "markdown",
   "metadata": {},
   "source": [
    "# Meteorology of Swindon\n",
    "\n",
    "This script extracts and interprets meteorological data in Swindon. The ERA5 Land Monthly Averaged data set retrieved from Copernicus and covers a spatial regions of North 51.6°, West -1.9°, South 51.5°, East -1.7°."
   ]
  },
  {
   "cell_type": "code",
   "execution_count": null,
   "metadata": {},
   "outputs": [],
   "source": [
    "import xarray as xr\n",
    "from datetime import date, timedelta\n",
    "from dateutil.relativedelta import relativedelta\n",
    "from tqdm.notebook import tqdm\n",
    "import matplotlib.pyplot as plt\n",
    "import numpy as np\n",
    "import os\n",
    "import pandas as pd"
   ]
  },
  {
   "cell_type": "code",
   "execution_count": null,
   "metadata": {},
   "outputs": [],
   "source": [
    "## 1. Data Extraction\n",
    "\n",
    "I have predownloaded the data to make this easier, the file is stored at the variable "
   ]
  },
  {
   "cell_type": "code",
   "execution_count": null,
   "metadata": {},
   "outputs": [],
   "source": []
  },
  {
   "cell_type": "code",
   "execution_count": null,
   "metadata": {},
   "outputs": [],
   "source": []
  },
  {
   "cell_type": "code",
   "execution_count": null,
   "metadata": {},
   "outputs": [],
   "source": []
  },
  {
   "cell_type": "code",
   "execution_count": null,
   "metadata": {},
   "outputs": [],
   "source": []
  },
  {
   "cell_type": "code",
   "execution_count": null,
   "metadata": {},
   "outputs": [],
   "source": [
    "def extract_data(meteo_folder, output_folder, leadtime=1, mvars=['msl', 't2m']):\n",
    "    \"\"\" Extracts the meteorological data from the GRIB files in 'meteo_folder' and stores them in independent files\n",
    "        named after the dates for the data they represent. E.G file 02-2020 at a leadtime of 1 month represents 03-2020.\"\"\"\n",
    "    _, _, files = next(os.walk(meteo_folder))\n",
    "    for f in tqdm(files):\n",
    "        if f[-5:] == \".grib\":\n",
    "            input_fname = meteo_folder + f\n",
    "            try:\n",
    "                ds = xr.open_dataset(input_fname, engine='cfgrib')\n",
    "                for v in mvars:\n",
    "                    output_fname = output_folder + v + \"/\" + f[:-5]\n",
    "                    data = np.mean(ds['msl'], axis=0)\n",
    "                    np.save(output_fname, data)\n",
    "                ds.close()\n",
    "            except Exception as e:\n",
    "                print(\"Failed to open file: {}\".format(input_fname))\n",
    "                print(e)\n",
    "extract_data(\"E:/31-12-2020/forecast-data/\", \"E:/31-12-2020/forecastee-data/\")"
   ]
  }
 ],
 "metadata": {
  "kernelspec": {
   "display_name": "Python 3",
   "language": "python",
   "name": "python3"
  },
  "language_info": {
   "codemirror_mode": {
    "name": "ipython",
    "version": 3
   },
   "file_extension": ".py",
   "mimetype": "text/x-python",
   "name": "python",
   "nbconvert_exporter": "python",
   "pygments_lexer": "ipython3",
   "version": "3.7.6"
  }
 },
 "nbformat": 4,
 "nbformat_minor": 4
}
