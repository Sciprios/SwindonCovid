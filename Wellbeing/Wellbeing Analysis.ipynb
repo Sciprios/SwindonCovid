{
 "cells": [
  {
   "cell_type": "markdown",
   "metadata": {},
   "source": [
    "# Swindon Wellbeing\n",
    "\n",
    "This script was written to provide easy interpretation of wellbeing statistics for Swindon. It has been initialised to load the data available [here](https://www.ons.gov.uk/datasets/wellbeing-local-authority/editions/time-series/versions/1) The link allows an excel file to be downloaded.\n",
    "\n",
    "I make no claim that this script is overly efficient, it was made for personal interest.\n",
    "\n",
    "Any questions please contact:\n",
    "> Andrew Paul Barnes<br>\n",
    "> Doctoral Student & Teaching Assistant<br>\n",
    "> Department of Architecture and Civil Engineering<br>\n",
    "> University of Bath<br>\n",
    "> a.p.barnes@bath.ac.uk\n",
    "\n",
    "## Libraries\n",
    "\n",
    "To begin several libraries are imported to allow easy manipulation of the data."
   ]
  },
  {
   "cell_type": "code",
   "execution_count": 1,
   "metadata": {},
   "outputs": [],
   "source": [
    "import numpy as np\n",
    "import pandas as pd\n",
    "import matplotlib.pyplot as plt\n",
    "from datetime import date\n",
    "from scipy.stats import linregress\n",
    "from matplotlib.lines import Line2D"
   ]
  },
  {
   "cell_type": "markdown",
   "metadata": {},
   "source": [
    "## Loading Data Required\n",
    "\n",
    "First we load the data from the file indicated by the *MASTER_FILE* variable, the range of *MEASURES* is also defined to give the wellbeing measured to be extracted."
   ]
  },
  {
   "cell_type": "code",
   "execution_count": 57,
   "metadata": {},
   "outputs": [],
   "source": [
    "MASTER_FILE = \"wellbeing_data.csv\"\n",
    "MEASURES = [\"Anxiety\", \"Happiness\", \"Life Satisfaction\", \"Worthwhile\"]\n",
    "RATINGS = [\"Poor\", \"Fair\", \"Good\", \"Very good\"]"
   ]
  },
  {
   "cell_type": "code",
   "execution_count": 43,
   "metadata": {},
   "outputs": [],
   "source": [
    "# Load data\n",
    "wellbeing_data = pd.read_csv(MASTER_FILE, delimiter=',', skiprows=2)\n",
    "\n",
    "def extract_average_data(data):\n",
    "    \"\"\" Extracts the data from the PANDAS table into the measures of wellbeing. \"\"\"\n",
    "    measures = {}\n",
    "    for m in MEASURES:\n",
    "        # Get only this current measure\n",
    "        m_data = data.loc[data['MeasureOfWellbeing'] == m]\n",
    "        measures[m] = {}\n",
    "        for score in m_data['Estimate'].unique():\n",
    "            s_data = m_data.loc[m_data['Estimate'] == score]\n",
    "            s_data = s_data.iloc[:, 4:].to_numpy()[0]\n",
    "            measures[m][score] = np.zeros(int(s_data.shape[0]/4))\n",
    "            for year in range(0, int(s_data.shape[0]/4)):\n",
    "                measures[m][score][year] = s_data[year*4]\n",
    "    return measures\n",
    "wellbeing_data = extract_average_data(wellbeing_data)"
   ]
  },
  {
   "cell_type": "markdown",
   "metadata": {},
   "source": [
    "## Yearly Proportion of results\n",
    "\n",
    "Stacked bar charts to show the proportion of resuts per year."
   ]
  },
  {
   "cell_type": "code",
   "execution_count": 86,
   "metadata": {},
   "outputs": [
    {
     "data": {
      "text/plain": [
       "<matplotlib.legend.Legend at 0x2914908fd68>"
      ]
     },
     "execution_count": 86,
     "metadata": {},
     "output_type": "execute_result"
    },
    {
     "data": {
      "image/png": "[encoded data removed]",
      "text/plain": [
       "<Figure size 1080x360 with 3 Axes>"
      ]
     },
     "metadata": {
      "needs_background": "light"
     },
     "output_type": "display_data"
    }
   ],
   "source": [
    "fig, all_axs = plt.subplots(nrows=1, ncols=3, figsize=(15, 5))\n",
    "\n",
    "colours = ['m', 'r', 'g', 'b', 'c', 'y', 'k']\n",
    "bar_width = 0.5\n",
    "\n",
    "ticks = [1, 9]\n",
    "labels = [\"2011/2012\", \"2019/2020\"]\n",
    "\n",
    "for idx, m in enumerate(MEASURES[:-1]):\n",
    "    axs = all_axs[idx]\n",
    "    for year in range(0, wellbeing_data[m][RATINGS[0]].shape[0]):\n",
    "        height = 0\n",
    "        for sidx, score in enumerate(RATINGS):\n",
    "            axs.bar(year+1, wellbeing_data[m][score][year],\n",
    "                        bar_width, bottom=height, color=colours[sidx])\n",
    "            height = height + wellbeing_data[m][score][year]\n",
    "    axs.set_title(m, fontsize=16)\n",
    "    axs.set_xlim([0, 10])\n",
    "    axs.set_ylim([0, 100])\n",
    "    axs.set_xticks(ticks)\n",
    "    axs.set_xticklabels(labels, fontsize=12)\n",
    "\n",
    "all_axs[1].set_xlabel(\"Year\", fontsize=14)\n",
    "all_axs[0].set_ylabel(\"Proportion (%)\", fontsize=14)\n",
    "\n",
    "bars = []\n",
    "for idx, b in enumerate(RATINGS):\n",
    "    bars.append(Line2D([0], [0], color=colours[idx], lw=4))\n",
    "\n",
    "all_axs[-1].legend(bars, RATINGS,\n",
    "                   loc=\"center right\",\n",
    "                   ncol=1, fontsize=12,\n",
    "                   facecolor='w', framealpha=1)"
   ]
  },
  {
   "cell_type": "code",
   "execution_count": null,
   "metadata": {},
   "outputs": [],
   "source": []
  },
  {
   "cell_type": "code",
   "execution_count": null,
   "metadata": {},
   "outputs": [],
   "source": []
  },
  {
   "cell_type": "code",
   "execution_count": null,
   "metadata": {},
   "outputs": [],
   "source": []
  },
  {
   "cell_type": "code",
   "execution_count": null,
   "metadata": {},
   "outputs": [],
   "source": []
  },
  {
   "cell_type": "code",
   "execution_count": null,
   "metadata": {},
   "outputs": [],
   "source": []
  },
  {
   "cell_type": "code",
   "execution_count": null,
   "metadata": {},
   "outputs": [],
   "source": []
  },
  {
   "cell_type": "code",
   "execution_count": null,
   "metadata": {},
   "outputs": [],
   "source": []
  },
  {
   "cell_type": "code",
   "execution_count": null,
   "metadata": {},
   "outputs": [],
   "source": []
  },
  {
   "cell_type": "code",
   "execution_count": null,
   "metadata": {},
   "outputs": [],
   "source": []
  }
 ],
 "metadata": {
  "kernelspec": {
   "display_name": "Python 3",
   "language": "python",
   "name": "python3"
  },
  "language_info": {
   "codemirror_mode": {
    "name": "ipython",
    "version": 3
   },
   "file_extension": ".py",
   "mimetype": "text/x-python",
   "name": "python",
   "nbconvert_exporter": "python",
   "pygments_lexer": "ipython3",
   "version": "3.7.3"
  }
 },
 "nbformat": 4,
 "nbformat_minor": 2
}
