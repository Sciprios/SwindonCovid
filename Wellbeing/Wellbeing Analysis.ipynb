{
 "cells": [
  {
   "cell_type": "markdown",
   "metadata": {},
   "source": [
    "# Swindon Wellbeing\n",
    "\n",
    "This script was written to provide easy interpretation of wellbeing statistics for Swindon. It has been initialised to load the data available [here](https://www.ons.gov.uk/datasets/wellbeing-local-authority/editions/time-series/versions/1) The link allows an excel file to be downloaded.\n",
    "\n",
    "I make no claim that this script is overly efficient, it was made for personal interest.\n",
    "\n",
    "Any questions please contact:\n",
    "> Andrew Paul Barnes<br>\n",
    "> Doctoral Student & Teaching Assistant<br>\n",
    "> Department of Architecture and Civil Engineering<br>\n",
    "> University of Bath<br>\n",
    "> a.p.barnes@bath.ac.uk\n",
    "\n",
    "## Libraries\n",
    "\n",
    "To begin several libraries are imported to allow easy manipulation of the data."
   ]
  },
  {
   "cell_type": "code",
   "execution_count": 2,
   "metadata": {},
   "outputs": [],
   "source": [
    "import numpy as np\n",
    "import pandas as pd\n",
    "import matplotlib.pyplot as plt\n",
    "from datetime import date\n",
    "from scipy.stats import linregress\n",
    "from matplotlib.lines import Line2D"
   ]
  },
  {
   "cell_type": "markdown",
   "metadata": {},
   "source": [
    "## Loading Data Required\n",
    "\n",
    "First we load the data from the file indicated by the *MASTER_FILE* variable, the range of *MEASURES* is also defined to give the wellbeing measured to be extracted."
   ]
  },
  {
   "cell_type": "code",
   "execution_count": 8,
   "metadata": {},
   "outputs": [],
   "source": [
    "MASTER_FILE = \"wellbeing_data.csv\"\n",
    "MEASURES = [\"Anxiety\", \"Happiness\", \"Life Satisfaction\", \"Worthwhile\"]"
   ]
  },
  {
   "cell_type": "code",
   "execution_count": 43,
   "metadata": {},
   "outputs": [],
   "source": [
    "# Load data\n",
    "wellbeing_data = pd.read_csv(MASTER_FILE, delimiter=',', skiprows=2)\n",
    "\n",
    "def extract_average_data(data):\n",
    "    \"\"\" Extracts the data from the PANDAS table into the measures of wellbeing. \"\"\"\n",
    "    measures = {}\n",
    "    for m in MEASURES:\n",
    "        # Get only this current measure\n",
    "        m_data = data.loc[data['MeasureOfWellbeing'] == m]\n",
    "        measures[m] = {}\n",
    "        for score in m_data['Estimate'].unique():\n",
    "            s_data = m_data.loc[m_data['Estimate'] == score]\n",
    "            s_data = s_data.iloc[:, 4:].to_numpy()[0]\n",
    "            measures[m][score] = np.zeros(int(s_data.shape[0]/4))\n",
    "            for year in range(0, int(s_data.shape[0]/4)):\n",
    "                measures[m][score][year] = s_data[year*4]\n",
    "    return measures\n",
    "wellbeing_data = extract_average_data(wellbeing_data)"
   ]
  },
  {
   "cell_type": "code",
   "execution_count": null,
   "metadata": {},
   "outputs": [],
   "source": []
  },
  {
   "cell_type": "code",
   "execution_count": null,
   "metadata": {},
   "outputs": [],
   "source": []
  },
  {
   "cell_type": "code",
   "execution_count": null,
   "metadata": {},
   "outputs": [],
   "source": []
  },
  {
   "cell_type": "code",
   "execution_count": null,
   "metadata": {},
   "outputs": [],
   "source": []
  },
  {
   "cell_type": "code",
   "execution_count": null,
   "metadata": {},
   "outputs": [],
   "source": []
  },
  {
   "cell_type": "code",
   "execution_count": null,
   "metadata": {},
   "outputs": [],
   "source": []
  },
  {
   "cell_type": "code",
   "execution_count": null,
   "metadata": {},
   "outputs": [],
   "source": []
  },
  {
   "cell_type": "code",
   "execution_count": null,
   "metadata": {},
   "outputs": [],
   "source": []
  },
  {
   "cell_type": "code",
   "execution_count": null,
   "metadata": {},
   "outputs": [],
   "source": []
  },
  {
   "cell_type": "code",
   "execution_count": null,
   "metadata": {},
   "outputs": [],
   "source": []
  },
  {
   "cell_type": "code",
   "execution_count": null,
   "metadata": {},
   "outputs": [],
   "source": []
  },
  {
   "cell_type": "code",
   "execution_count": null,
   "metadata": {},
   "outputs": [],
   "source": []
  }
 ],
 "metadata": {
  "kernelspec": {
   "display_name": "Python 3",
   "language": "python",
   "name": "python3"
  },
  "language_info": {
   "codemirror_mode": {
    "name": "ipython",
    "version": 3
   },
   "file_extension": ".py",
   "mimetype": "text/x-python",
   "name": "python",
   "nbconvert_exporter": "python",
   "pygments_lexer": "ipython3",
   "version": "3.7.3"
  }
 },
 "nbformat": 4,
 "nbformat_minor": 2
}
